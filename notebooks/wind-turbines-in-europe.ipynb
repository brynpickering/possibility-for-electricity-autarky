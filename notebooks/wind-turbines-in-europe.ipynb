{
 "cells": [
  {
   "cell_type": "markdown",
   "metadata": {},
   "source": [
    "# Which wind turbines have recently been built the most?\n",
    "\n",
    "For the analysis we need simulations of wind power in-feed which we generate using renewables.ninja. We need to choose a particular wind turbine model, but there are plenty of them in use today. We thus choose a model that is built often recently. Using the wind farms database of [The Wind Power](https://www.thewindpower.net), we search for the models that have been built most often recently."
   ]
  },
  {
   "cell_type": "code",
   "execution_count": 2,
   "metadata": {},
   "outputs": [],
   "source": [
    "import pandas as pd"
   ]
  },
  {
   "cell_type": "code",
   "execution_count": 3,
   "metadata": {},
   "outputs": [],
   "source": [
    "PATH_TO_DATA = \"../data/Windfarms_Europe_20180627.csv\"\n",
    "RECENT_YEAR = 2010"
   ]
  },
  {
   "cell_type": "code",
   "execution_count": 5,
   "metadata": {},
   "outputs": [],
   "source": [
    "data = pd.read_csv(PATH_TO_DATA, quotechar=\"'\")"
   ]
  },
  {
   "cell_type": "code",
   "execution_count": 42,
   "metadata": {},
   "outputs": [],
   "source": [
    "data[\"year\"] = pd.to_numeric(\n",
    "    data[\"Commissioning date (Format: yyyy or yyyymm)\"].str[:4],\n",
    "    errors=\"coerce\"\n",
    ")\n",
    "data[\"number_turbines\"] = pd.to_numeric(\n",
    "    data[\"Number of turbines\"],\n",
    "    errors=\"coerce\"\n",
    ")\n",
    "data[\"hub_height\"] = pd.to_numeric(\n",
    "    data[\"Hub height (m)\"],\n",
    "    errors=\"coerce\"\n",
    ")\n",
    "recent = data[\"year\"] >= RECENT_YEAR\n",
    "offshore = data[\"Offshore - Shore distance (km)\"] != \"No\""
   ]
  },
  {
   "cell_type": "markdown",
   "metadata": {},
   "source": [
    "## Turbines"
   ]
  },
  {
   "cell_type": "code",
   "execution_count": 40,
   "metadata": {},
   "outputs": [
    {
     "data": {
      "text/plain": [
       "Turbine\n",
       "#ND         15.369783\n",
       "V90/2000     9.834090\n",
       "E82/2300     5.366971\n",
       "Name: number_turbines, dtype: float64"
      ]
     },
     "execution_count": 40,
     "metadata": {},
     "output_type": "execute_result"
    }
   ],
   "source": [
    "(data[recent & ~offshore].groupby(\"Turbine\")[\"number_turbines\"]\n",
    "                         .sum()\n",
    "                         .transform(lambda x: x / x.sum() * 100)\n",
    "                         .sort_values(ascending=False)\n",
    "                         .iloc[:3]\n",
    ")"
   ]
  },
  {
   "cell_type": "markdown",
   "metadata": {},
   "source": [
    "The onshore wind turbine that has been built most often since 2010 in Europe is the Vestas V90/2000. 10% of all installed wind turbines since then has been this model."
   ]
  },
  {
   "cell_type": "code",
   "execution_count": 41,
   "metadata": {},
   "outputs": [
    {
     "data": {
      "text/plain": [
       "Turbine\n",
       "SWT-3.6-107    26.271186\n",
       "SWT-3.6-120    17.312349\n",
       "SWT-6.0-154    10.805085\n",
       "Name: number_turbines, dtype: float64"
      ]
     },
     "execution_count": 41,
     "metadata": {},
     "output_type": "execute_result"
    }
   ],
   "source": [
    "(data[recent & offshore].groupby(\"Turbine\")[\"number_turbines\"]\n",
    "                        .sum()\n",
    "                        .transform(lambda x: x / x.sum() * 100)\n",
    "                        .sort_values(ascending=False)\n",
    "                        .iloc[:3]\n",
    ")"
   ]
  },
  {
   "cell_type": "markdown",
   "metadata": {},
   "source": [
    "The offshore wind turbine that has been built most often since 2010 in Europe is the Siemens SWT-3.6-107. 26% of all installed wind turbines since then has been this model."
   ]
  },
  {
   "cell_type": "markdown",
   "metadata": {},
   "source": [
    "## Hub Heights\n",
    "\n",
    "What are the median hub heights of these turbines?"
   ]
  },
  {
   "cell_type": "code",
   "execution_count": 48,
   "metadata": {},
   "outputs": [
    {
     "data": {
      "text/plain": [
       "Turbine\n",
       "V90/2000       105.0\n",
       "SWT-3.6-107     87.0\n",
       "Name: hub_height, dtype: float64"
      ]
     },
     "execution_count": 48,
     "metadata": {},
     "output_type": "execute_result"
    }
   ],
   "source": [
    "(data[recent].groupby(\"Turbine\")[\"hub_height\"]\n",
    "             .median()\n",
    "             .sort_values(ascending=False)\n",
    "             .loc[[\"V90/2000\", \"SWT-3.6-107\"]]\n",
    ")"
   ]
  },
  {
   "cell_type": "code",
   "execution_count": null,
   "metadata": {},
   "outputs": [],
   "source": []
  }
 ],
 "metadata": {
  "kernelspec": {
   "display_name": "Python 3",
   "language": "python",
   "name": "python3"
  },
  "language_info": {
   "codemirror_mode": {
    "name": "ipython",
    "version": 3
   },
   "file_extension": ".py",
   "mimetype": "text/x-python",
   "name": "python",
   "nbconvert_exporter": "python",
   "pygments_lexer": "ipython3",
   "version": "3.6.6"
  }
 },
 "nbformat": 4,
 "nbformat_minor": 2
}
