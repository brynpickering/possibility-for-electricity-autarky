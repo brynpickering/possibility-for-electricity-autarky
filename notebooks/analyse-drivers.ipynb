{
 "cells": [
  {
   "cell_type": "markdown",
   "metadata": {},
   "source": [
    "I am trying to understand what the drivers are for high shares of necessary land. So in the following, I will look at certain attributes of regions and figure out whether they come along with higher values of land demand. "
   ]
  },
  {
   "cell_type": "code",
   "execution_count": 1,
   "metadata": {},
   "outputs": [],
   "source": [
    "import numpy as np\n",
    "import pandas as pd\n",
    "import geopandas as gpd\n",
    "\n",
    "import sys\n",
    "sys.path.append(\"..\")\n",
    "from src.conversion import area_in_squaremeters\n",
    "from src.eligible_land import FARM, FOREST, GlobCover, ProtectedArea"
   ]
  },
  {
   "cell_type": "code",
   "execution_count": 2,
   "metadata": {},
   "outputs": [],
   "source": [
    "regions = gpd.read_file(\"../build/municipal/regions.geojson\").set_index(\"id\")\n",
    "pop = pd.read_csv(\"../build/municipal/population.csv\", index_col=0)[\"population_sum\"]\n",
    "land_cover = pd.read_csv(\"../build/municipal/land-cover.csv\", index_col=0)\n",
    "protected_areas = pd.read_csv(\"../build/municipal/protected-areas.csv\", index_col=0)\n",
    "industrial_demand_share = pd.read_csv(\"../build/municipal/demand.csv\", index_col=0)[\"industrial_demand_fraction\"]\n",
    "necessary_land = pd.read_csv(\"../build/municipal/full-protection/necessary-land.csv\", index_col=0)[\"fraction_land_necessary\"]\n",
    "necessary_land_no_protection = pd.read_csv(\"../build/municipal/zero-protection/necessary-land.csv\", index_col=0)[\"fraction_land_necessary\"]"
   ]
  },
  {
   "cell_type": "code",
   "execution_count": 3,
   "metadata": {},
   "outputs": [],
   "source": [
    "necessary_land[necessary_land == np.inf] = np.nan\n",
    "necessary_land_no_protection[necessary_land_no_protection == np.inf] = np.nan\n",
    "pop_density = pop / (area_in_squaremeters(regions) / 1e6)\n",
    "farmland_share = (land_cover[[f\"lc_{cover.value}\" for cover in FARM]].sum(axis=1) / \n",
    "                  land_cover[[f\"lc_{cover.value}\" for cover in GlobCover]].sum(axis=1))\n",
    "forest_share = (land_cover[[f\"lc_{cover.value}\" for cover in FOREST]].sum(axis=1) / \n",
    "                land_cover[[f\"lc_{cover.value}\" for cover in GlobCover]].sum(axis=1))\n",
    "protection_share = (protected_areas[\"pa_{}\".format(ProtectedArea.PROTECTED)] / \n",
    "                    protected_areas[[f\"pa_{cover.value}\" for cover in ProtectedArea]].sum(axis=1))"
   ]
  },
  {
   "cell_type": "code",
   "execution_count": 4,
   "metadata": {},
   "outputs": [],
   "source": [
    "urban = pop_density > 1000\n",
    "farmland = farmland_share > 0.5\n",
    "forest = forest_share > 0.5\n",
    "industry = industrial_demand_share > 0.0"
   ]
  },
  {
   "cell_type": "markdown",
   "metadata": {},
   "source": [
    "## Effect on necessary land"
   ]
  },
  {
   "cell_type": "code",
   "execution_count": 5,
   "metadata": {},
   "outputs": [
    {
     "name": "stdout",
     "output_type": "stream",
     "text": [
      "0.384707554584\n",
      "0.22619123013\n"
     ]
    }
   ],
   "source": [
    "print(necessary_land[urban].mean())\n",
    "print(necessary_land[~urban].mean())"
   ]
  },
  {
   "cell_type": "markdown",
   "metadata": {},
   "source": [
    "Urban areas have higher needs for land demand. Let's remove them in the following, to find drivers in non urban regions.\n",
    "\n",
    "Another logical driver would be environmental protection. So let's look at the impact of that:"
   ]
  },
  {
   "cell_type": "code",
   "execution_count": 6,
   "metadata": {},
   "outputs": [
    {
     "name": "stdout",
     "output_type": "stream",
     "text": [
      "0.797939770031\n",
      "0.0738162191692\n"
     ]
    }
   ],
   "source": [
    "print(necessary_land[protection_share > 0.5].mean())\n",
    "print(necessary_land[protection_share <= 0.5].mean())"
   ]
  },
  {
   "cell_type": "markdown",
   "metadata": {},
   "source": [
    "Ok so environmental protection is an important driver."
   ]
  },
  {
   "cell_type": "code",
   "execution_count": 7,
   "metadata": {},
   "outputs": [
    {
     "name": "stdout",
     "output_type": "stream",
     "text": [
      "0.374397537554\n",
      "0.0469200157844\n"
     ]
    }
   ],
   "source": [
    "print(necessary_land_no_protection[urban].mean())\n",
    "print(necessary_land_no_protection[~urban].mean())"
   ]
  },
  {
   "cell_type": "markdown",
   "metadata": {},
   "source": [
    "When ignoring environmental protection, not so much changes in the cities. But there are dramatical changes in the rural areas: necessary land goes down from 23% to 5%.\n",
    "\n",
    "That basically says that environmental protection is the largets driver in rural areas, and population density the largest driver in urban areas.\n",
    "\n",
    "Let's still look at a few more driver candidates:"
   ]
  },
  {
   "cell_type": "code",
   "execution_count": 8,
   "metadata": {},
   "outputs": [
    {
     "name": "stdout",
     "output_type": "stream",
     "text": [
      "0.722735605418\n",
      "0.225463455971\n",
      "0.00176794869734\n"
     ]
    }
   ],
   "source": [
    "print(necessary_land[~urban & industry].mean())\n",
    "print(necessary_land[~urban & ~industry].mean())\n",
    "print(industry.sum() / necessary_land.count())"
   ]
  },
  {
   "cell_type": "markdown",
   "metadata": {},
   "source": [
    "Industrial loads show a large impact on the land demand. But they only make up 0.2% of all regions."
   ]
  },
  {
   "cell_type": "code",
   "execution_count": 9,
   "metadata": {},
   "outputs": [
    {
     "name": "stdout",
     "output_type": "stream",
     "text": [
      "0.0699881333357\n",
      "0.413204565942\n"
     ]
    }
   ],
   "source": [
    "print(necessary_land[~urban & farmland].mean())\n",
    "print(necessary_land[~urban & ~farmland].mean())"
   ]
  },
  {
   "cell_type": "markdown",
   "metadata": {},
   "source": [
    "The more farmland available, the significantly lower the land demand. "
   ]
  },
  {
   "cell_type": "code",
   "execution_count": 10,
   "metadata": {},
   "outputs": [
    {
     "name": "stdout",
     "output_type": "stream",
     "text": [
      "0.825422393076\n",
      "0.0678863004357\n"
     ]
    }
   ],
   "source": [
    "print(necessary_land[~urban & forest].mean())\n",
    "print(necessary_land[~urban & ~forest].mean())"
   ]
  },
  {
   "cell_type": "markdown",
   "metadata": {},
   "source": [
    "The more forest available, the significantly higher the land demand.\n",
    "\n",
    "How come? Maybe it's simply that there is almost no population whereever there is forest? Let's have a look."
   ]
  },
  {
   "cell_type": "code",
   "execution_count": 11,
   "metadata": {},
   "outputs": [
    {
     "name": "stdout",
     "output_type": "stream",
     "text": [
      "2747.82045342\n",
      "2957.33924023\n"
     ]
    }
   ],
   "source": [
    "print(pop[~urban & forest].mean())\n",
    "print(pop[~urban & ~forest].mean())"
   ]
  },
  {
   "cell_type": "code",
   "execution_count": 12,
   "metadata": {},
   "outputs": [
    {
     "name": "stdout",
     "output_type": "stream",
     "text": [
      "2974.63907996\n",
      "2840.40255246\n"
     ]
    }
   ],
   "source": [
    "print(pop[~urban & farmland].mean())\n",
    "print(pop[~urban & ~farmland].mean())"
   ]
  },
  {
   "cell_type": "markdown",
   "metadata": {},
   "source": [
    "The driver for both effects does not seem to be population in the regions, as the average population size is equal. \n",
    "\n",
    "What then drives this effect? Maybe forests are more likely to be protected?"
   ]
  },
  {
   "cell_type": "code",
   "execution_count": 13,
   "metadata": {},
   "outputs": [
    {
     "name": "stdout",
     "output_type": "stream",
     "text": [
      "0.532708602582\n",
      "0.374648303198\n"
     ]
    }
   ],
   "source": [
    "print(protection_share[~urban & forest].mean())\n",
    "print(protection_share[~urban & ~forest].mean())"
   ]
  },
  {
   "cell_type": "markdown",
   "metadata": {},
   "source": [
    "They are more likely to be protected but this does not seem to explain all the data."
   ]
  },
  {
   "cell_type": "code",
   "execution_count": 14,
   "metadata": {},
   "outputs": [
    {
     "name": "stdout",
     "output_type": "stream",
     "text": [
      "0.0512577997423\n",
      "0.0457735454908\n"
     ]
    }
   ],
   "source": [
    "print(necessary_land_no_protection[~urban & forest].mean())\n",
    "print(necessary_land_no_protection[~urban & ~forest].mean())"
   ]
  },
  {
   "cell_type": "markdown",
   "metadata": {},
   "source": [
    "Nope, that was wrong: When exluding environmental protection, the visible effect is rather small."
   ]
  },
  {
   "cell_type": "code",
   "execution_count": 15,
   "metadata": {},
   "outputs": [
    {
     "name": "stdout",
     "output_type": "stream",
     "text": [
      "0.0486088453954\n",
      "0.0448985087129\n"
     ]
    }
   ],
   "source": [
    "print(necessary_land_no_protection[~urban & farmland].mean())\n",
    "print(necessary_land_no_protection[~urban & ~farmland].mean())"
   ]
  },
  {
   "cell_type": "markdown",
   "metadata": {},
   "source": [
    "The same goes for farmland: if we exclude that, there is no effect for farmland visible anymore"
   ]
  },
  {
   "cell_type": "markdown",
   "metadata": {},
   "source": [
    "### Wait a minute:\n",
    "\n",
    "Farmland shouldn't/cannot be protected. Can we please quantify the overlap here?"
   ]
  },
  {
   "cell_type": "code",
   "execution_count": 16,
   "metadata": {},
   "outputs": [],
   "source": [
    "import rasterio"
   ]
  },
  {
   "cell_type": "code",
   "execution_count": 17,
   "metadata": {},
   "outputs": [],
   "source": [
    "with rasterio.open(\"../build/protected-areas-europe.tif\") as src:\n",
    "    protected_areas = src.read(1)\n",
    "with rasterio.open(\"../build/land-cover-europe.tif\") as src:\n",
    "    land_cover = src.read(1)"
   ]
  },
  {
   "cell_type": "code",
   "execution_count": 18,
   "metadata": {},
   "outputs": [],
   "source": [
    "protected_farm_land = (np.isin(land_cover, FARM)) & (protected_areas == ProtectedArea.NOT_PROTECTED)"
   ]
  },
  {
   "cell_type": "code",
   "execution_count": 19,
   "metadata": {},
   "outputs": [
    {
     "data": {
      "text/plain": [
       "0.00086783555423798945"
      ]
     },
     "execution_count": 19,
     "metadata": {},
     "output_type": "execute_result"
    }
   ],
   "source": [
    "protected_farm_land.sum() / land_cover.sum()"
   ]
  },
  {
   "cell_type": "markdown",
   "metadata": {},
   "source": [
    "This is almost negligble (fortunately!). How come that environmental protection then has an impact on whether farmland shows an effect or not?\n",
    "\n",
    "### End Wait a minute"
   ]
  },
  {
   "cell_type": "markdown",
   "metadata": {},
   "source": [
    "It simply must be the areas that are not farm land in the end that drive it. Could it be that the more farmland in one region, the less environmental protection?"
   ]
  },
  {
   "cell_type": "code",
   "execution_count": 20,
   "metadata": {},
   "outputs": [
    {
     "name": "stdout",
     "output_type": "stream",
     "text": [
      "0.347809230507\n",
      "0.454027169977\n"
     ]
    }
   ],
   "source": [
    "print(protection_share[farmland].mean())\n",
    "print(protection_share[~farmland].mean())"
   ]
  },
  {
   "cell_type": "markdown",
   "metadata": {},
   "source": [
    "Yes, regions with more farmland simply have less protected areas. Other effect playing along might be that farmland is rather flat and can be built upon compared to regions with not so much farmland."
   ]
  },
  {
   "cell_type": "markdown",
   "metadata": {},
   "source": [
    "## Effect on undersupplied population\n",
    "\n",
    "Let's do the same analysis but this time considering the population that is undersupllied."
   ]
  },
  {
   "cell_type": "code",
   "execution_count": 21,
   "metadata": {},
   "outputs": [],
   "source": [
    "LAND_THRESHOLD = 1.0"
   ]
  },
  {
   "cell_type": "code",
   "execution_count": 22,
   "metadata": {},
   "outputs": [],
   "source": [
    "undersupplied_pop = pop[necessary_land > LAND_THRESHOLD].transform(lambda x: x / x.sum())"
   ]
  },
  {
   "cell_type": "code",
   "execution_count": 23,
   "metadata": {},
   "outputs": [
    {
     "name": "stdout",
     "output_type": "stream",
     "text": [
      "0.949490266582\n"
     ]
    }
   ],
   "source": [
    "print(undersupplied_pop[urban].sum())"
   ]
  },
  {
   "cell_type": "markdown",
   "metadata": {},
   "source": [
    "95% of the undersupplied population lives in urban areas."
   ]
  },
  {
   "cell_type": "code",
   "execution_count": 24,
   "metadata": {},
   "outputs": [
    {
     "name": "stdout",
     "output_type": "stream",
     "text": [
      "0.0284415574676\n"
     ]
    }
   ],
   "source": [
    "print(undersupplied_pop[~urban & (protection_share > 0.5)].sum())"
   ]
  },
  {
   "cell_type": "markdown",
   "metadata": {},
   "source": [
    "Of the remaining ~5%, 2.8% live in regions with high environmental protection. This leaves only 2.2% unexplained.\n",
    "\n"
   ]
  },
  {
   "cell_type": "code",
   "execution_count": 25,
   "metadata": {},
   "outputs": [
    {
     "name": "stdout",
     "output_type": "stream",
     "text": [
      "0.015857597175\n"
     ]
    }
   ],
   "source": [
    "print(undersupplied_pop[~urban & (protection_share <= 0.5) & industry].sum())"
   ]
  },
  {
   "cell_type": "markdown",
   "metadata": {},
   "source": [
    "Of the remaining ~2.2%, 1.6% live in regions with high industrial loads. This leaves only 0.6% unexplained."
   ]
  },
  {
   "cell_type": "markdown",
   "metadata": {},
   "source": [
    "Is this mechanism sensitive to the land threshold? Let's use another."
   ]
  },
  {
   "cell_type": "code",
   "execution_count": 26,
   "metadata": {},
   "outputs": [
    {
     "name": "stdout",
     "output_type": "stream",
     "text": [
      "0.912331101357\n",
      "0.0393102148922\n",
      "0.00829310881584\n"
     ]
    }
   ],
   "source": [
    "undersupplied_pop = pop[necessary_land > 0.3].transform(lambda x: x / x.sum())\n",
    "print(undersupplied_pop[urban].sum())\n",
    "print(undersupplied_pop[~urban & (protection_share > 0.5)].sum())\n",
    "print(undersupplied_pop[~urban & (protection_share <= 0.5) & industry].sum())"
   ]
  },
  {
   "cell_type": "markdown",
   "metadata": {},
   "source": [
    "When using 30% as a threshold, the numbers are 91%, 4%, and 0.8% so they still explain almost all undersupplied population. So no, they don't seem to be very sensitive to the threshold."
   ]
  },
  {
   "cell_type": "markdown",
   "metadata": {},
   "source": [
    "## Conclusion\n",
    "\n",
    "Outside of urban areas the main driver is environmental protection and industrial loads. For municipalities this means that aspiring autarky would mean to either cut environmental protection, or use not protected and not eligible land for energy farming; like agricultural areas or forests."
   ]
  },
  {
   "cell_type": "code",
   "execution_count": null,
   "metadata": {},
   "outputs": [],
   "source": []
  }
 ],
 "metadata": {
  "kernelspec": {
   "display_name": "Python 3",
   "language": "python",
   "name": "python3"
  },
  "language_info": {
   "codemirror_mode": {
    "name": "ipython",
    "version": 3
   },
   "file_extension": ".py",
   "mimetype": "text/x-python",
   "name": "python",
   "nbconvert_exporter": "python",
   "pygments_lexer": "ipython3",
   "version": "3.6.5"
  }
 },
 "nbformat": 4,
 "nbformat_minor": 2
}
