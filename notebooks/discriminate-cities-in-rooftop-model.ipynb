{
 "cells": [
  {
   "cell_type": "code",
   "execution_count": 109,
   "metadata": {},
   "outputs": [],
   "source": [
    "import math\n",
    "import fiona\n",
    "from shapely.geometry import shape\n",
    "import numpy as np\n",
    "import pandas as pd\n",
    "import geopandas as gpd\n",
    "from shapely.prepared import prep\n",
    "import rasterio\n",
    "import matplotlib.pyplot as plt\n",
    "%matplotlib inline"
   ]
  },
  {
   "cell_type": "code",
   "execution_count": 104,
   "metadata": {},
   "outputs": [],
   "source": [
    "CITIES = [\"Zürich\", \"Genève\", \"Basel\", \"Lausanne\", \"Bern\", \"Winterthur\"] # cities larger than 100k\n",
    "ROOFTOP_PV = 250\n",
    "DATATYPE = np.float32"
   ]
  },
  {
   "cell_type": "markdown",
   "metadata": {},
   "source": [
    "# Discriminate cities in rooftop model?\n",
    "\n",
    "Currently, we are using one model for rooftop availability. It is derived from data on each roof in Switzerland. Part of the model is a factor that maps from building footprint to available rooftop area. Intuitively one would think that there is a difference between buildings in the city and buildings in rural areas. My guess is that rural buildings have larger roofs compared to their building foot print. Can we see that in the data?"
   ]
  },
  {
   "cell_type": "markdown",
   "metadata": {},
   "source": [
    "## Read and prepare data"
   ]
  },
  {
   "cell_type": "markdown",
   "metadata": {},
   "source": [
    "### Sonnendach.ch data"
   ]
  },
  {
   "cell_type": "code",
   "execution_count": 12,
   "metadata": {},
   "outputs": [],
   "source": [
    "municipalities = gpd.read_file(\"../build/municipal/units.geojson\")\n",
    "swiss_municipalities = municipalities[municipalities.country_code == \"CHE\"].copy()\n",
    "cities = swiss_municipalities[swiss_municipalities.name.isin(CITIES)]\n",
    "rural = swiss_municipalities.dissolve(by=\"country_code\").difference(cities.dissolve(by=\"country_code\"))"
   ]
  },
  {
   "cell_type": "code",
   "execution_count": 3,
   "metadata": {},
   "outputs": [],
   "source": [
    "with fiona.open(\"../data/sonnendach/SOLKAT_20180827.gdb/\", layer=\"SOLKAT_CH_DACH\") as f_in:\n",
    "    crs = f_in.crs\n",
    "    points = [shape(feat[\"geometry\"]).centroid for feat in f_in]"
   ]
  },
  {
   "cell_type": "code",
   "execution_count": 42,
   "metadata": {},
   "outputs": [
    {
     "name": "stderr",
     "output_type": "stream",
     "text": [
      "/Users/trtim/miniconda3/envs/possibility-for-electricity-autarky/lib/python3.6/site-packages/numpy/lib/arraysetops.py:463: FutureWarning: elementwise comparison failed; returning scalar instead, but in the future will perform elementwise comparison\n",
      "  mask |= (ar1 == a)\n"
     ]
    }
   ],
   "source": [
    "roofs = gpd.GeoDataFrame(\n",
    "    geometry=points,\n",
    "    crs=crs,\n",
    "    data=pd.read_csv(\"../build/swiss/roofs-without-geometry.csv\", index_col=0)\n",
    ").to_crs(rural.crs)"
   ]
  },
  {
   "cell_type": "code",
   "execution_count": 63,
   "metadata": {},
   "outputs": [],
   "source": [
    "pre_rural = prep(rural.iloc[0])\n",
    "rural_mask = pd.Series(\n",
    "    index=roofs.index,\n",
    "    data=[pre_rural.intersects(roof) for roof in roofs.geometry]\n",
    ")"
   ]
  },
  {
   "cell_type": "code",
   "execution_count": 215,
   "metadata": {},
   "outputs": [
    {
     "data": {
      "text/html": [
       "<div>\n",
       "<style scoped>\n",
       "    .dataframe tbody tr th:only-of-type {\n",
       "        vertical-align: middle;\n",
       "    }\n",
       "\n",
       "    .dataframe tbody tr th {\n",
       "        vertical-align: top;\n",
       "    }\n",
       "\n",
       "    .dataframe thead th {\n",
       "        text-align: right;\n",
       "    }\n",
       "</style>\n",
       "<table border=\"1\" class=\"dataframe\">\n",
       "  <thead>\n",
       "    <tr style=\"text-align: right;\">\n",
       "      <th></th>\n",
       "      <th>country_code</th>\n",
       "      <th>id</th>\n",
       "      <th>name</th>\n",
       "      <th>type</th>\n",
       "      <th>proper</th>\n",
       "      <th>geometry</th>\n",
       "    </tr>\n",
       "  </thead>\n",
       "  <tbody>\n",
       "    <tr>\n",
       "      <th>120341</th>\n",
       "      <td>CHE</td>\n",
       "      <td>CH01100230</td>\n",
       "      <td>Winterthur</td>\n",
       "      <td>commune</td>\n",
       "      <td>1</td>\n",
       "      <td>(POLYGON ((8.758186 47.54665849900005, 8.77583...</td>\n",
       "    </tr>\n",
       "    <tr>\n",
       "      <th>120354</th>\n",
       "      <td>CHE</td>\n",
       "      <td>CH01120261</td>\n",
       "      <td>Zürich</td>\n",
       "      <td>commune</td>\n",
       "      <td>1</td>\n",
       "      <td>(POLYGON ((8.510740500000054 47.43218150000006...</td>\n",
       "    </tr>\n",
       "    <tr>\n",
       "      <th>120560</th>\n",
       "      <td>CHE</td>\n",
       "      <td>CH02460351</td>\n",
       "      <td>Bern</td>\n",
       "      <td>commune</td>\n",
       "      <td>1</td>\n",
       "      <td>(POLYGON ((7.452985 46.98314950000008, 7.45525...</td>\n",
       "    </tr>\n",
       "    <tr>\n",
       "      <th>121205</th>\n",
       "      <td>CHE</td>\n",
       "      <td>CH12002701</td>\n",
       "      <td>Basel</td>\n",
       "      <td>commune</td>\n",
       "      <td>1</td>\n",
       "      <td>(POLYGON ((7.590391 47.589534, 7.6049385000000...</td>\n",
       "    </tr>\n",
       "    <tr>\n",
       "      <th>122205</th>\n",
       "      <td>CHE</td>\n",
       "      <td>CH22255586</td>\n",
       "      <td>Lausanne</td>\n",
       "      <td>commune</td>\n",
       "      <td>1</td>\n",
       "      <td>(POLYGON ((6.629861 46.57866850100004, 6.61772...</td>\n",
       "    </tr>\n",
       "    <tr>\n",
       "      <th>122552</th>\n",
       "      <td>CHE</td>\n",
       "      <td>CH25006621</td>\n",
       "      <td>Genève</td>\n",
       "      <td>commune</td>\n",
       "      <td>1</td>\n",
       "      <td>(POLYGON ((6.136237 46.230554, 6.1503375000000...</td>\n",
       "    </tr>\n",
       "  </tbody>\n",
       "</table>\n",
       "</div>"
      ],
      "text/plain": [
       "       country_code          id        name     type  proper  \\\n",
       "120341          CHE  CH01100230  Winterthur  commune       1   \n",
       "120354          CHE  CH01120261      Zürich  commune       1   \n",
       "120560          CHE  CH02460351        Bern  commune       1   \n",
       "121205          CHE  CH12002701       Basel  commune       1   \n",
       "122205          CHE  CH22255586    Lausanne  commune       1   \n",
       "122552          CHE  CH25006621      Genève  commune       1   \n",
       "\n",
       "                                                 geometry  \n",
       "120341  (POLYGON ((8.758186 47.54665849900005, 8.77583...  \n",
       "120354  (POLYGON ((8.510740500000054 47.43218150000006...  \n",
       "120560  (POLYGON ((7.452985 46.98314950000008, 7.45525...  \n",
       "121205  (POLYGON ((7.590391 47.589534, 7.6049385000000...  \n",
       "122205  (POLYGON ((6.629861 46.57866850100004, 6.61772...  \n",
       "122552  (POLYGON ((6.136237 46.230554, 6.1503375000000...  "
      ]
     },
     "execution_count": 215,
     "metadata": {},
     "output_type": "execute_result"
    }
   ],
   "source": [
    "cities"
   ]
  },
  {
   "cell_type": "code",
   "execution_count": 199,
   "metadata": {},
   "outputs": [],
   "source": [
    "pre_urban = prep(cities.dissolve(by=\"country_code\").iloc[0].geometry)\n",
    "urban_mask = pd.Series(\n",
    "    index=roofs.index,\n",
    "    data=[pre_urban.intersects(roof) for roof in roofs.geometry]\n",
    ")"
   ]
  },
  {
   "cell_type": "code",
   "execution_count": 222,
   "metadata": {},
   "outputs": [],
   "source": [
    "pre_zurich = prep(cities.loc[120354].geometry)\n",
    "zurich_mask = pd.Series(\n",
    "    index=roofs.index,\n",
    "    data=[pre_zurich.intersects(roof) for roof in roofs.geometry]\n",
    ")"
   ]
  },
  {
   "cell_type": "code",
   "execution_count": 223,
   "metadata": {},
   "outputs": [
    {
     "data": {
      "text/plain": [
       "<matplotlib.axes._subplots.AxesSubplot at 0x1b145ce48>"
      ]
     },
     "execution_count": 223,
     "metadata": {},
     "output_type": "execute_result"
    },
    {
     "data": {
      "image/png": "[encoded data removed]",
      "text/plain": [
       "<Figure size 720x504 with 1 Axes>"
      ]
     },
     "metadata": {
      "needs_background": "light"
     },
     "output_type": "display_data"
    }
   ],
   "source": [
    "fig = plt.figure(figsize=(10, 7))\n",
    "ax = fig.add_subplot(111)\n",
    "rural.plot(ax=ax)\n",
    "roofs[urban_mask][:100000].plot(ax=ax, color=\"r\", markersize=0.1)"
   ]
  },
  {
   "cell_type": "code",
   "execution_count": 162,
   "metadata": {},
   "outputs": [],
   "source": [
    "MIN_ROOF_SIZE = 10 # @BFE:2016 \"Berechnung Potential in Gemeinden\"\n",
    "MAX_FLAT_TILT = 10 # @BFE:2016 \"Berechnung Potential in Gemeinden\"\n",
    "SINGLE_FAMILY_BUILDING = 1021 # GKAT @BFE:2016 \"Berechnung Potential in Gemeinden\"\n",
    "MULTI_FAMILY_BUILDING = 1025 # GKAT @BFE:2016 \"Berechnung Potential in Gemeinden\"\n",
    "FALLBACK_BUILDING_TYPE = 1010 # GKAT @BFE:2016 \"Berechnung Potential in Gemeinden\"\n",
    "\n",
    "def theoretic_to_actual_area(row):\n",
    "    # method and values from @BFE:2016 \"Berechnung Potential in Gemeinden\"\n",
    "    if row.NEIGUNG <= 10:\n",
    "        return row.FLAECHE * _theoretic_to_actual_area_flat_roofs_factor(row)\n",
    "    else:\n",
    "        return row.FLAECHE * 0.7\n",
    "\n",
    "\n",
    "def _theoretic_to_actual_area_flat_roofs_factor(row):\n",
    "    if row.GKAT == SINGLE_FAMILY_BUILDING:\n",
    "        return 0.7\n",
    "    elif row.GKAT == MULTI_FAMILY_BUILDING:\n",
    "        if row.FLAECHE < 1000:\n",
    "            return 0.6 * 0.7\n",
    "        else:\n",
    "            return 0.6 * 0.8\n",
    "    else:\n",
    "        if row.FLAECHE < 1000:\n",
    "            return 0.7\n",
    "        else:\n",
    "            return 0.8"
   ]
  },
  {
   "cell_type": "code",
   "execution_count": 163,
   "metadata": {},
   "outputs": [],
   "source": [
    "sonnendach = pd.read_csv(\"../build/swiss/roofs-without-geometry.csv\", index_col=0)\n",
    "sonnendach = sonnendach.merge(\n",
    "    pd.read_csv(\"../build/swiss/building-categories.csv\", index_col=0),\n",
    "    left_on=\"GWR_EGID\",\n",
    "    right_index=True,\n",
    "    how=\"left\"\n",
    ")\n",
    "sonnendach[\"GKAT\"].fillna(value=FALLBACK_BUILDING_TYPE, inplace=True)\n",
    "sonnendach[\"GKAT\"] = sonnendach[\"GKAT\"].astype(pd.np.int16)\n",
    "sonnendach = sonnendach[sonnendach.FLAECHE >= MIN_ROOF_SIZE]\n",
    "roof_area_km2 = sonnendach.apply(theoretic_to_actual_area, axis=1) / 1e6"
   ]
  },
  {
   "cell_type": "code",
   "execution_count": 224,
   "metadata": {},
   "outputs": [],
   "source": [
    "rural_rooftop_area_km2 = roof_area_km2.loc[~urban_mask].sum()\n",
    "urban_rooftop_area_km2 = roof_area_km2.loc[urban_mask].sum()\n",
    "zurich_rooftop_area_km2 = roof_area_km2.loc[zurich_mask].sum()"
   ]
  },
  {
   "cell_type": "markdown",
   "metadata": {},
   "source": [
    "### ESM data"
   ]
  },
  {
   "cell_type": "code",
   "execution_count": 110,
   "metadata": {},
   "outputs": [],
   "source": [
    "def determine_pixel_areas(crs, bounds, resolution):\n",
    "    \"\"\"Returns a raster in which the value corresponds to the area [km2] of the pixel.\n",
    "\n",
    "    This assumes the data comprises square pixel in WGS84.\n",
    "\n",
    "    Parameters:\n",
    "        crs: the coordinate reference system of the data (must be WGS84)\n",
    "        bounds: an object with attributes left/right/top/bottom given in degrees\n",
    "        resolution: the scalar resolution (remember: square pixels) given in degrees\n",
    "    \"\"\"\n",
    "    # the following is based on https://gis.stackexchange.com/a/288034/77760\n",
    "    # and assumes the data to be in WGS84\n",
    "    assert crs == rasterio.crs.CRS.from_epsg(\"4326\") # WGS84\n",
    "    width = int((bounds.right - bounds.left) / resolution)\n",
    "    height = int((bounds.top - bounds.bottom) / resolution)\n",
    "    latitudes = np.linspace(\n",
    "        start=bounds.top,\n",
    "        stop=bounds.bottom,\n",
    "        num=height,\n",
    "        endpoint=True,\n",
    "        dtype=np.float64\n",
    "    )\n",
    "    varea_of_pixel = np.vectorize(lambda lat: _area_of_pixel(resolution, lat))\n",
    "    pixel_area = varea_of_pixel(latitudes) # vector\n",
    "    return pixel_area.repeat(width).reshape(height, width).astype(np.float64)\n",
    "\n",
    "\n",
    "def _area_of_pixel(pixel_size, center_lat):\n",
    "    \"\"\"Calculate km^2 area of a wgs84 square pixel.\n",
    "\n",
    "    Adapted from: https://gis.stackexchange.com/a/127327/2397\n",
    "\n",
    "    Parameters:\n",
    "        pixel_size (float): length of side of pixel in degrees.\n",
    "        center_lat (float): latitude of the center of the pixel. Note this\n",
    "            value +/- half the `pixel-size` must not exceed 90/-90 degrees\n",
    "            latitude or an invalid area will be calculated.\n",
    "\n",
    "    Returns:\n",
    "        Area of square pixel of side length `pixel_size` centered at\n",
    "        `center_lat` in km^2.\n",
    "\n",
    "    \"\"\"\n",
    "    a = 6378137  # meters\n",
    "    b = 6356752.3142  # meters\n",
    "    e = math.sqrt(1 - (b / a)**2)\n",
    "    area_list = []\n",
    "    for f in [center_lat + pixel_size / 2, center_lat - pixel_size / 2]:\n",
    "        zm = 1 - e * math.sin(math.radians(f))\n",
    "        zp = 1 + e * math.sin(math.radians(f))\n",
    "        area_list.append(\n",
    "            math.pi * b**2 * (\n",
    "                math.log(zp / zm) / (2 * e) +\n",
    "                math.sin(math.radians(f)) / (zp * zm)))\n",
    "    return pixel_size / 360. * (area_list[0] - area_list[1]) / 1e6"
   ]
  },
  {
   "cell_type": "code",
   "execution_count": 219,
   "metadata": {},
   "outputs": [],
   "source": [
    "with rasterio.open(\"../build/technically-eligible-land.tif\") as src:\n",
    "    rural_categories = rasterio.mask.mask(src, rural, crop=False)[0].reshape(16200, 19008)\n",
    "    urban_categories = rasterio.mask.mask(src, cities.geometry, crop=False)[0].reshape(16200, 19008)\n",
    "    zurich_categories = rasterio.mask.mask(src, cities.loc[120354].geometry, crop=False)[0].reshape(16200, 19008)\n",
    "    meta = src.meta\n",
    "    bounds = src.bounds\n",
    "    resolution = src.res[0]\n",
    "\n",
    "pixel_area = determine_pixel_areas(meta[\"crs\"], bounds, resolution).astype(DATATYPE)\n",
    "with rasterio.open(\"../build/esm-class50-buildings.tif\") as f_building_share:\n",
    "    pixel_area = pixel_area * f_building_share.read(1)\n",
    "rural_areas = pixel_area.copy()\n",
    "urban_areas = pixel_area.copy()\n",
    "zurich_areas = pixel_area.copy()\n",
    "rural_areas[rural_categories != ROOFTOP_PV] = 0\n",
    "urban_areas[urban_categories != ROOFTOP_PV] = 0\n",
    "zurich_areas[zurich_categories != ROOFTOP_PV] = 0"
   ]
  },
  {
   "cell_type": "markdown",
   "metadata": {},
   "source": [
    "## Compare"
   ]
  },
  {
   "cell_type": "code",
   "execution_count": 207,
   "metadata": {},
   "outputs": [
    {
     "name": "stdout",
     "output_type": "stream",
     "text": [
      "Rural rooftop area according to sonnendach.ch: 415km2\n",
      "Rural building footprints according to ESM: 982km2\n",
      "Rural correction factor: 0.42\n"
     ]
    }
   ],
   "source": [
    "print(f\"Rural rooftop area according to sonnendach.ch: {rural_rooftop_area_km2:.0f}km2\")\n",
    "print(f\"Rural building footprints according to ESM: {rural_areas.sum():.0f}km2\")\n",
    "print(f\"Rural correction factor: {rural_rooftop_area_km2 / rural_areas.sum():.2f}\")"
   ]
  },
  {
   "cell_type": "code",
   "execution_count": 208,
   "metadata": {},
   "outputs": [
    {
     "name": "stdout",
     "output_type": "stream",
     "text": [
      "Urban rooftop area according to sonnendach.ch: 27km2\n",
      "Urban building footprints according to ESM: 70km2\n",
      "Urban correction factor: 0.38\n"
     ]
    }
   ],
   "source": [
    "print(f\"Urban rooftop area according to sonnendach.ch: {urban_rooftop_area_km2:.0f}km2\")\n",
    "print(f\"Urban building footprints according to ESM: {urban_areas.sum():.0f}km2\")\n",
    "print(f\"Urban correction factor: {urban_rooftop_area_km2 / urban_areas.sum():.2f}\")"
   ]
  },
  {
   "cell_type": "code",
   "execution_count": 225,
   "metadata": {},
   "outputs": [
    {
     "name": "stdout",
     "output_type": "stream",
     "text": [
      "Zurich rooftop area according to sonnendach.ch: 9km2\n",
      "Zurich building footprints according to ESM: 25km2\n",
      "Zurich correction factor: 0.36\n"
     ]
    }
   ],
   "source": [
    "print(f\"Zurich rooftop area according to sonnendach.ch: {zurich_rooftop_area_km2:.0f}km2\")\n",
    "print(f\"Zurich building footprints according to ESM: {zurich_areas.sum():.0f}km2\")\n",
    "print(f\"Zurich correction factor: {zurich_rooftop_area_km2 / zurich_areas.sum():.2f}\")"
   ]
  },
  {
   "cell_type": "markdown",
   "metadata": {},
   "source": [
    "## Conclusion\n",
    "\n",
    "There is evidence that the statistical model for urban areas is different than for rural areas in Switzerland:\n",
    "\n",
    "For every squaremeter of rural building footprint, sonnendach.ch finds 0.42 squaremeter usable rooftop area. For the same building footprint in the six largest Swiss cities, they find only 0.38 squarementer usable rooftop area. That means there is 10% less rooftop area in these cities compared to the country side on average.\n",
    "\n",
    "The difference is even stronger when looking at Zurich only, Switzerlands largest city: here, only 0.36 squaremeter usable rooftop area is found per squaremeter building footprint; more than 14% less than in the country side. Given that many cities in Europe are larger than Zurich (and/or more dense, which may be even more important), I would speculate that many places in Europe see even less available rooftop space per building footprint.\n",
    "\n",
    "As rural buildings dominate in Switzerland, the total average is close to the rural average. Hence, in our results, rural rooftop pv potential is almost correct, while urban rooftop pv potential is 10% too high in average --- Zurich rooftop pv potential is even 14% too high.\n",
    "\n",
    "This speaks in favour of having more than one statistical model in our analysis. However, it is not clear how to discriminate: what is the driving factor? Is it urban infrastructure? Is it population density? Furthermore it is unknown how and in which way that applies to other countries."
   ]
  },
  {
   "cell_type": "code",
   "execution_count": null,
   "metadata": {},
   "outputs": [],
   "source": []
  }
 ],
 "metadata": {
  "kernelspec": {
   "display_name": "Python 3",
   "language": "python",
   "name": "python3"
  },
  "language_info": {
   "codemirror_mode": {
    "name": "ipython",
    "version": 3
   },
   "file_extension": ".py",
   "mimetype": "text/x-python",
   "name": "python",
   "nbconvert_exporter": "python",
   "pygments_lexer": "ipython3",
   "version": "3.6.6"
  }
 },
 "nbformat": 4,
 "nbformat_minor": 2
}
